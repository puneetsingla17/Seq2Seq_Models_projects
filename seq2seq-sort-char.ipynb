{
 "cells": [
  {
   "cell_type": "code",
   "execution_count": 1,
   "metadata": {
    "_cell_guid": "b1076dfc-b9ad-4769-8c92-a6c4dae69d19",
    "_uuid": "8f2839f25d086af736a60e9eeb907d3b93b6e0e5"
   },
   "outputs": [
    {
     "name": "stdout",
     "output_type": "stream",
     "text": [
      "['repository']\n"
     ]
    }
   ],
   "source": [
    "# This Python 3 environment comes with many helpful analytics libraries installed\n",
    "# It is defined by the kaggle/python docker image: https://github.com/kaggle/docker-python\n",
    "# For example, here's several helpful packages to load in \n",
    "\n",
    "import numpy as np # linear algebra\n",
    "import pandas as pd # data processing, CSV file I/O (e.g. pd.read_csv)\n",
    "import tensorflow as tf\n",
    "# Input data files are available in the \"../input/\" directory.\n",
    "# For example, running this (by clicking run or pressing Shift+Enter) will list the files in the input directory\n",
    "\n",
    "import os\n",
    "print(os.listdir(\"../input\"))\n",
    "\n",
    "# Any results you write to the current directory are saved as output."
   ]
  },
  {
   "cell_type": "code",
   "execution_count": 2,
   "metadata": {
    "_cell_guid": "79c7e3d0-c299-4dcb-8224-4455121ee9b0",
    "_uuid": "d629ff2d2480ee46fbb7e2d37f6b5fab8052498a"
   },
   "outputs": [],
   "source": [
    "with open(\"../input/repository/udacity-deep-learning-c6b46a0/seq2seq/data/letters_target.txt\") as f:\n",
    "    target=f.read()"
   ]
  },
  {
   "cell_type": "code",
   "execution_count": 3,
   "metadata": {},
   "outputs": [],
   "source": [
    "with open(\"../input/repository/udacity-deep-learning-c6b46a0/seq2seq/data/letters_source.txt\") as f:\n",
    "    data=f.read()"
   ]
  },
  {
   "cell_type": "code",
   "execution_count": 4,
   "metadata": {},
   "outputs": [],
   "source": [
    "target=target.split(\"\\n\")"
   ]
  },
  {
   "cell_type": "code",
   "execution_count": 5,
   "metadata": {},
   "outputs": [],
   "source": [
    "data=data.split(\"\\n\")"
   ]
  },
  {
   "cell_type": "code",
   "execution_count": 6,
   "metadata": {},
   "outputs": [
    {
     "data": {
      "text/plain": [
       "10000"
      ]
     },
     "execution_count": 6,
     "metadata": {},
     "output_type": "execute_result"
    }
   ],
   "source": [
    "len(target)"
   ]
  },
  {
   "cell_type": "code",
   "execution_count": 7,
   "metadata": {},
   "outputs": [
    {
     "data": {
      "text/plain": [
       "10000"
      ]
     },
     "execution_count": 7,
     "metadata": {},
     "output_type": "execute_result"
    }
   ],
   "source": [
    "len(data)"
   ]
  },
  {
   "cell_type": "code",
   "execution_count": 8,
   "metadata": {},
   "outputs": [
    {
     "data": {
      "text/plain": [
       "['bsaqq', 'npy', 'lbwuj', 'bqv', 'kial']"
      ]
     },
     "execution_count": 8,
     "metadata": {},
     "output_type": "execute_result"
    }
   ],
   "source": [
    "data[:5]"
   ]
  },
  {
   "cell_type": "code",
   "execution_count": 9,
   "metadata": {},
   "outputs": [
    {
     "data": {
      "text/plain": [
       "['abqqs', 'npy', 'bjluw', 'bqv', 'aikl']"
      ]
     },
     "execution_count": 9,
     "metadata": {},
     "output_type": "execute_result"
    }
   ],
   "source": [
    "target[:5]"
   ]
  },
  {
   "cell_type": "code",
   "execution_count": 10,
   "metadata": {},
   "outputs": [],
   "source": [
    "special_words=['<PAD>','<UNK>','<GO>','<EOS>']"
   ]
  },
  {
   "cell_type": "code",
   "execution_count": 11,
   "metadata": {},
   "outputs": [],
   "source": [
    "set_words=set([charac for sent in data for charac in sent])"
   ]
  },
  {
   "cell_type": "code",
   "execution_count": 12,
   "metadata": {},
   "outputs": [],
   "source": [
    "words=special_words+list(set_words)"
   ]
  },
  {
   "cell_type": "code",
   "execution_count": 13,
   "metadata": {},
   "outputs": [
    {
     "data": {
      "text/plain": [
       "['<PAD>',\n",
       " '<UNK>',\n",
       " '<GO>',\n",
       " '<EOS>',\n",
       " 'a',\n",
       " 'p',\n",
       " 's',\n",
       " 'e',\n",
       " 'q',\n",
       " 'n',\n",
       " 'z',\n",
       " 't',\n",
       " 'o',\n",
       " 'w',\n",
       " 'c',\n",
       " 'i',\n",
       " 'd',\n",
       " 'x',\n",
       " 'r',\n",
       " 'b',\n",
       " 'm',\n",
       " 'v',\n",
       " 'h',\n",
       " 'g',\n",
       " 'y',\n",
       " 'j',\n",
       " 'k',\n",
       " 'l',\n",
       " 'u',\n",
       " 'f']"
      ]
     },
     "execution_count": 13,
     "metadata": {},
     "output_type": "execute_result"
    }
   ],
   "source": [
    "words"
   ]
  },
  {
   "cell_type": "code",
   "execution_count": 14,
   "metadata": {},
   "outputs": [],
   "source": [
    "vocab_2_int={k:v for v,k in enumerate(words)}"
   ]
  },
  {
   "cell_type": "code",
   "execution_count": 15,
   "metadata": {},
   "outputs": [],
   "source": [
    "int_2_vocab={v:k for (k,v) in vocab_2_int.items()}"
   ]
  },
  {
   "cell_type": "code",
   "execution_count": 16,
   "metadata": {},
   "outputs": [
    {
     "data": {
      "text/plain": [
       "{0: '<PAD>',\n",
       " 1: '<UNK>',\n",
       " 2: '<GO>',\n",
       " 3: '<EOS>',\n",
       " 4: 'a',\n",
       " 5: 'p',\n",
       " 6: 's',\n",
       " 7: 'e',\n",
       " 8: 'q',\n",
       " 9: 'n',\n",
       " 10: 'z',\n",
       " 11: 't',\n",
       " 12: 'o',\n",
       " 13: 'w',\n",
       " 14: 'c',\n",
       " 15: 'i',\n",
       " 16: 'd',\n",
       " 17: 'x',\n",
       " 18: 'r',\n",
       " 19: 'b',\n",
       " 20: 'm',\n",
       " 21: 'v',\n",
       " 22: 'h',\n",
       " 23: 'g',\n",
       " 24: 'y',\n",
       " 25: 'j',\n",
       " 26: 'k',\n",
       " 27: 'l',\n",
       " 28: 'u',\n",
       " 29: 'f'}"
      ]
     },
     "execution_count": 16,
     "metadata": {},
     "output_type": "execute_result"
    }
   ],
   "source": [
    "int_2_vocab"
   ]
  },
  {
   "cell_type": "code",
   "execution_count": 17,
   "metadata": {},
   "outputs": [],
   "source": [
    "source_letter_ids = [[vocab_2_int.get(letter, vocab_2_int['<UNK>']) for letter in line] for line in data]\n",
    " "
   ]
  },
  {
   "cell_type": "code",
   "execution_count": 18,
   "metadata": {},
   "outputs": [],
   "source": [
    "target_letter_ids=[[vocab_2_int[i] for i in sent]+[vocab_2_int['<EOS>']] for sent in target]"
   ]
  },
  {
   "cell_type": "code",
   "execution_count": 19,
   "metadata": {},
   "outputs": [
    {
     "data": {
      "text/plain": [
       "[[4, 19, 8, 8, 6, 3],\n",
       " [9, 5, 24, 3],\n",
       " [19, 25, 27, 28, 13, 3],\n",
       " [19, 8, 21, 3],\n",
       " [4, 15, 26, 27, 3]]"
      ]
     },
     "execution_count": 19,
     "metadata": {},
     "output_type": "execute_result"
    }
   ],
   "source": [
    "target_letter_ids[:5]"
   ]
  },
  {
   "cell_type": "code",
   "execution_count": 20,
   "metadata": {},
   "outputs": [
    {
     "data": {
      "text/plain": [
       "[[19, 6, 4, 8, 8],\n",
       " [9, 5, 24],\n",
       " [27, 19, 13, 28, 25],\n",
       " [19, 8, 21],\n",
       " [26, 15, 4, 27]]"
      ]
     },
     "execution_count": 20,
     "metadata": {},
     "output_type": "execute_result"
    }
   ],
   "source": [
    "source_letter_ids[:5]"
   ]
  },
  {
   "cell_type": "code",
   "execution_count": 21,
   "metadata": {},
   "outputs": [
    {
     "name": "stdout",
     "output_type": "stream",
     "text": [
      "[19, 6, 4, 8, 8]\n",
      "b s a q q\n"
     ]
    }
   ],
   "source": [
    "print(source_letter_ids[0])\n",
    "print(\" \".join([int_2_vocab[i] for i in source_letter_ids[0]]))"
   ]
  },
  {
   "cell_type": "code",
   "execution_count": 22,
   "metadata": {},
   "outputs": [
    {
     "name": "stdout",
     "output_type": "stream",
     "text": [
      "[4, 19, 8, 8, 6, 3]\n",
      "a b q q s <EOS>\n"
     ]
    }
   ],
   "source": [
    "print(target_letter_ids[0])\n",
    "print(\" \".join([int_2_vocab[i] for i in target_letter_ids[0]]))"
   ]
  },
  {
   "cell_type": "code",
   "execution_count": 23,
   "metadata": {},
   "outputs": [],
   "source": [
    "epochs=100\n",
    "batchsize=128\n",
    "rnnsize=60\n",
    "numlayers=2\n",
    "encoding_embed=15\n",
    "decoding_embed=15\n",
    "lr=0.001"
   ]
  },
  {
   "cell_type": "code",
   "execution_count": 24,
   "metadata": {},
   "outputs": [],
   "source": [
    "inp=tf.placeholder(tf.int32,[None,None])\n",
    "target=tf.placeholder(tf.int32,[None,None])\n",
    "tar_seq_length=tf.placeholder(tf.int32,[None,])\n",
    "max_target_length=tf.reduce_max(tar_seq_length)\n",
    "source_seq_length=tf.placeholder(tf.int32,[None,])\n",
    "lr=tf.placeholder(tf.float32,shape=[])"
   ]
  },
  {
   "cell_type": "code",
   "execution_count": 25,
   "metadata": {},
   "outputs": [
    {
     "name": "stdout",
     "output_type": "stream",
     "text": [
      "WARNING:tensorflow:From /opt/conda/lib/python3.6/site-packages/tensorflow/python/framework/op_def_library.py:263: colocate_with (from tensorflow.python.framework.ops) is deprecated and will be removed in a future version.\n",
      "Instructions for updating:\n",
      "Colocations handled automatically by placer.\n"
     ]
    }
   ],
   "source": [
    "enc=tf.Variable(tf.random_uniform([len(vocab_2_int),encoding_embed],0,1))\n",
    "emc_embed=tf.nn.embedding_lookup(enc,inp)\n"
   ]
  },
  {
   "cell_type": "code",
   "execution_count": 26,
   "metadata": {},
   "outputs": [],
   "source": [
    "def makecell(rnnsize):\n",
    "    enc_cell=tf.nn.rnn_cell.LSTMCell(rnnsize,dtype=tf.float32)\n",
    "    return enc_cell"
   ]
  },
  {
   "cell_type": "code",
   "execution_count": 27,
   "metadata": {},
   "outputs": [
    {
     "name": "stdout",
     "output_type": "stream",
     "text": [
      "WARNING:tensorflow:From <ipython-input-26-f7ac91ed09c1>:2: LSTMCell.__init__ (from tensorflow.python.ops.rnn_cell_impl) is deprecated and will be removed in a future version.\n",
      "Instructions for updating:\n",
      "This class is equivalent as tf.keras.layers.LSTMCell, and will be replaced by that in Tensorflow 2.0.\n",
      "WARNING:tensorflow:From <ipython-input-27-d5a9c6e523d3>:1: MultiRNNCell.__init__ (from tensorflow.python.ops.rnn_cell_impl) is deprecated and will be removed in a future version.\n",
      "Instructions for updating:\n",
      "This class is equivalent as tf.keras.layers.StackedRNNCells, and will be replaced by that in Tensorflow 2.0.\n"
     ]
    }
   ],
   "source": [
    "enccell=tf.nn.rnn_cell.MultiRNNCell([makecell(rnnsize) for _ in range(numlayers)])"
   ]
  },
  {
   "cell_type": "code",
   "execution_count": 28,
   "metadata": {},
   "outputs": [
    {
     "name": "stdout",
     "output_type": "stream",
     "text": [
      "WARNING:tensorflow:From <ipython-input-28-2ed9737bcffe>:1: dynamic_rnn (from tensorflow.python.ops.rnn) is deprecated and will be removed in a future version.\n",
      "Instructions for updating:\n",
      "Please use `keras.layers.RNN(cell)`, which is equivalent to this API\n",
      "WARNING:tensorflow:From /opt/conda/lib/python3.6/site-packages/tensorflow/python/ops/rnn.py:626: to_int32 (from tensorflow.python.ops.math_ops) is deprecated and will be removed in a future version.\n",
      "Instructions for updating:\n",
      "Use tf.cast instead.\n"
     ]
    }
   ],
   "source": [
    "enc_out,enc_last=tf.nn.dynamic_rnn(enccell,emc_embed,sequence_length=source_seq_length,dtype=tf.float32)"
   ]
  },
  {
   "cell_type": "code",
   "execution_count": 29,
   "metadata": {},
   "outputs": [
    {
     "data": {
      "text/plain": [
       "(LSTMStateTuple(c=<tf.Tensor 'rnn/while/Exit_3:0' shape=(?, 60) dtype=float32>, h=<tf.Tensor 'rnn/while/Exit_4:0' shape=(?, 60) dtype=float32>),\n",
       " LSTMStateTuple(c=<tf.Tensor 'rnn/while/Exit_5:0' shape=(?, 60) dtype=float32>, h=<tf.Tensor 'rnn/while/Exit_6:0' shape=(?, 60) dtype=float32>))"
      ]
     },
     "execution_count": 29,
     "metadata": {},
     "output_type": "execute_result"
    }
   ],
   "source": [
    "enc_last"
   ]
  },
  {
   "cell_type": "code",
   "execution_count": 30,
   "metadata": {},
   "outputs": [],
   "source": [
    "ending=tf.strided_slice(target,[0,0],[batchsize,-1],[1,1])\n",
    "decinput=tf.concat([tf.fill([batchsize,1],vocab_2_int['<GO>']),ending],axis=1)"
   ]
  },
  {
   "cell_type": "code",
   "execution_count": 31,
   "metadata": {},
   "outputs": [
    {
     "data": {
      "text/plain": [
       "TensorShape([Dimension(128), Dimension(None)])"
      ]
     },
     "execution_count": 31,
     "metadata": {},
     "output_type": "execute_result"
    }
   ],
   "source": [
    "decinput.get_shape()"
   ]
  },
  {
   "cell_type": "code",
   "execution_count": 32,
   "metadata": {},
   "outputs": [],
   "source": [
    "target_vocabsize=len(vocab_2_int)"
   ]
  },
  {
   "cell_type": "code",
   "execution_count": 33,
   "metadata": {},
   "outputs": [],
   "source": [
    "decembeddings=tf.Variable(tf.random_uniform([target_vocabsize,decoding_embed]))\n",
    "decod_emb_inp=tf.nn.embedding_lookup(decembeddings,decinput)\n"
   ]
  },
  {
   "cell_type": "code",
   "execution_count": 34,
   "metadata": {},
   "outputs": [],
   "source": [
    "dec_cell=tf.nn.rnn_cell.MultiRNNCell([makecell(rnnsize) for _ in range(numlayers)])"
   ]
  },
  {
   "cell_type": "code",
   "execution_count": 35,
   "metadata": {},
   "outputs": [],
   "source": [
    "outlayer=tf.layers.Dense(target_vocabsize,kernel_initializer=tf.truncated_normal_initializer(mean=0.0,stddev=0.1))"
   ]
  },
  {
   "cell_type": "code",
   "execution_count": 36,
   "metadata": {},
   "outputs": [
    {
     "name": "stdout",
     "output_type": "stream",
     "text": [
      "\n",
      "WARNING: The TensorFlow contrib module will not be included in TensorFlow 2.0.\n",
      "For more information, please see:\n",
      "  * https://github.com/tensorflow/community/blob/master/rfcs/20180907-contrib-sunset.md\n",
      "  * https://github.com/tensorflow/addons\n",
      "If you depend on functionality not listed there, please file an issue.\n",
      "\n"
     ]
    }
   ],
   "source": [
    "with tf.variable_scope(\"decode\"):\n",
    "    trainhelper=tf.contrib.seq2seq.TrainingHelper(inputs=decod_emb_inp,sequence_length=tar_seq_length,time_major=False)\n",
    "    traindecoder=tf.contrib.seq2seq.BasicDecoder(dec_cell,trainhelper,initial_state=enc_last,output_layer=outlayer)\n",
    "    train_decoder_output=tf.contrib.seq2seq.dynamic_decode(traindecoder,impute_finished=True,maximum_iterations=max_target_length)[0]"
   ]
  },
  {
   "cell_type": "code",
   "execution_count": 37,
   "metadata": {},
   "outputs": [],
   "source": [
    "with tf.variable_scope(\"decode\",reuse=True):\n",
    "    starttoken=tf.tile(tf.constant([vocab_2_int['<GO>']],dtype=tf.int32),[batchsize])\n",
    "    inferhelper=tf.contrib.seq2seq.GreedyEmbeddingHelper(decembeddings,starttoken,vocab_2_int['<EOS>'])\n",
    "    inferdecoder=tf.contrib.seq2seq.BasicDecoder(dec_cell,inferhelper,enc_last,outlayer)\n",
    "    infer_decoder_output=tf.contrib.seq2seq.dynamic_decode(inferdecoder,impute_finished=True,maximum_iterations=max_target_length)[0]"
   ]
  },
  {
   "cell_type": "code",
   "execution_count": 38,
   "metadata": {},
   "outputs": [],
   "source": [
    "training_logits=tf.identity(train_decoder_output.rnn_output)\n",
    "inference_logits=tf.identity(infer_decoder_output.rnn_output)"
   ]
  },
  {
   "cell_type": "code",
   "execution_count": 39,
   "metadata": {},
   "outputs": [],
   "source": [
    "masks=tf.sequence_mask(tar_seq_length,max_target_length,dtype=tf.float32)"
   ]
  },
  {
   "cell_type": "code",
   "execution_count": 40,
   "metadata": {},
   "outputs": [
    {
     "data": {
      "text/plain": [
       "<tf.Tensor 'SequenceMask/Cast_1:0' shape=(?, ?) dtype=float32>"
      ]
     },
     "execution_count": 40,
     "metadata": {},
     "output_type": "execute_result"
    }
   ],
   "source": [
    "masks"
   ]
  },
  {
   "cell_type": "code",
   "execution_count": 41,
   "metadata": {},
   "outputs": [],
   "source": [
    "with tf.name_scope(\"optimization\"):\n",
    "    cost=tf.contrib.seq2seq.sequence_loss(training_logits,target,masks)\n",
    "    optimizer=tf.train.AdamOptimizer(lr)\n",
    "    gradients=optimizer.compute_gradients(cost)\n",
    "    capped_gradients=[(tf.clip_by_value(grad,-5.0,5.0),var) for grad,var in gradients if grad is not None]\n",
    "    train_op=optimizer.apply_gradients(capped_gradients)"
   ]
  },
  {
   "cell_type": "code",
   "execution_count": 42,
   "metadata": {},
   "outputs": [],
   "source": [
    "def pad_sequence_batch(sentence_batch,pad_int):\n",
    "    max_sent=max([len(sent) for sent in sentence_batch])\n",
    "    return [sentence + [pad_int]*(max_sent-len(sentence)) for sentence in sentence_batch]\n"
   ]
  },
  {
   "cell_type": "code",
   "execution_count": 43,
   "metadata": {},
   "outputs": [],
   "source": [
    "def get_batches(targets,sources,batch_size,source_pad_int,target_pad_int):\n",
    "    for batch_i in range(0,len(sources)//batch_size):\n",
    "        \n",
    "        start_i=batch_i*batch_size\n",
    "        #print(start_i)\n",
    "        #print(sources)\n",
    "        #print(targets)\n",
    "        sources_batch=sources[start_i:(start_i+batch_size)]\n",
    "        targets_batch=targets[start_i:(start_i+batch_size)]\n",
    "        #print(len(sources_batch))\n",
    "        #print(len(targets_batch))\n",
    "        \n",
    "        padsources_batch=np.array(pad_sequence_batch(sources_batch,source_pad_int))\n",
    "        padtarget_batch=np.array(pad_sequence_batch(targets_batch,target_pad_int))\n",
    "        \n",
    "        pad_targets_length=[]\n",
    "        for target in padtarget_batch:\n",
    "            pad_targets_length.append(len(target))\n",
    "\n",
    "        pad_source_lengths=[]\n",
    "        for source in padsources_batch:\n",
    "            pad_source_lengths.append(len(source))\n",
    "                \n",
    "        yield padtarget_batch,padsources_batch,pad_targets_length,pad_source_lengths"
   ]
  },
  {
   "cell_type": "code",
   "execution_count": 44,
   "metadata": {},
   "outputs": [
    {
     "ename": "NameError",
     "evalue": "name 'trainsource' is not defined",
     "output_type": "error",
     "traceback": [
      "\u001b[0;31m---------------------------------------------------------------------------\u001b[0m",
      "\u001b[0;31mNameError\u001b[0m                                 Traceback (most recent call last)",
      "\u001b[0;32m<ipython-input-44-354863fa9b96>\u001b[0m in \u001b[0;36m<module>\u001b[0;34m()\u001b[0m\n\u001b[0;32m----> 1\u001b[0;31m \u001b[0mtrainsource\u001b[0m\u001b[0;34m\u001b[0m\u001b[0m\n\u001b[0m",
      "\u001b[0;31mNameError\u001b[0m: name 'trainsource' is not defined"
     ]
    }
   ],
   "source": [
    "trainsource"
   ]
  },
  {
   "cell_type": "code",
   "execution_count": 45,
   "metadata": {},
   "outputs": [
    {
     "data": {
      "text/plain": [
       "10000"
      ]
     },
     "execution_count": 45,
     "metadata": {},
     "output_type": "execute_result"
    }
   ],
   "source": [
    "len(source_letter_ids)"
   ]
  },
  {
   "cell_type": "code",
   "execution_count": 46,
   "metadata": {},
   "outputs": [],
   "source": [
    "trainsource=source_letter_ids[1000:]\n",
    "traintarget=target_letter_ids[1000:]\n",
    "validsource=source_letter_ids[:1000]\n",
    "validtarget=target_letter_ids[:1000]\n"
   ]
  },
  {
   "cell_type": "code",
   "execution_count": 47,
   "metadata": {},
   "outputs": [
    {
     "data": {
      "text/plain": [
       "[[14], [16, 28, 22], [16, 15, 23], [22, 19, 7], [8, 13, 18]]"
      ]
     },
     "execution_count": 47,
     "metadata": {},
     "output_type": "execute_result"
    }
   ],
   "source": [
    "trainsource[:5]"
   ]
  },
  {
   "cell_type": "code",
   "execution_count": 48,
   "metadata": {},
   "outputs": [
    {
     "data": {
      "text/plain": [
       "1000"
      ]
     },
     "execution_count": 48,
     "metadata": {},
     "output_type": "execute_result"
    }
   ],
   "source": [
    "len(validsource)"
   ]
  },
  {
   "cell_type": "code",
   "execution_count": 49,
   "metadata": {},
   "outputs": [
    {
     "data": {
      "text/plain": [
       "7"
      ]
     },
     "execution_count": 49,
     "metadata": {},
     "output_type": "execute_result"
    }
   ],
   "source": [
    "max(list(map(len,validsource)))"
   ]
  },
  {
   "cell_type": "code",
   "execution_count": 50,
   "metadata": {},
   "outputs": [
    {
     "data": {
      "text/plain": [
       "8"
      ]
     },
     "execution_count": 50,
     "metadata": {},
     "output_type": "execute_result"
    }
   ],
   "source": [
    "max(list(map(len,validtarget)))"
   ]
  },
  {
   "cell_type": "code",
   "execution_count": 51,
   "metadata": {},
   "outputs": [
    {
     "data": {
      "text/plain": [
       "9000"
      ]
     },
     "execution_count": 51,
     "metadata": {},
     "output_type": "execute_result"
    }
   ],
   "source": [
    "len(trainsource)"
   ]
  },
  {
   "cell_type": "code",
   "execution_count": 52,
   "metadata": {},
   "outputs": [
    {
     "data": {
      "text/plain": [
       "128"
      ]
     },
     "execution_count": 52,
     "metadata": {},
     "output_type": "execute_result"
    }
   ],
   "source": [
    "batchsize"
   ]
  },
  {
   "cell_type": "code",
   "execution_count": 53,
   "metadata": {},
   "outputs": [],
   "source": [
    "learning_rate=0.001"
   ]
  },
  {
   "cell_type": "code",
   "execution_count": 54,
   "metadata": {},
   "outputs": [
    {
     "name": "stdout",
     "output_type": "stream",
     "text": [
      "trainingloss:- 3.396941  batch_i:  0  epoch_i  1\n",
      "validloss:- 3.3655322\n",
      "trainingloss:- 2.3196027  batch_i:  50  epoch_i  1\n",
      "validloss:- 2.2663054\n",
      "trainingloss:- 1.8856539  batch_i:  0  epoch_i  2\n",
      "validloss:- 1.8706281\n",
      "trainingloss:- 1.679334  batch_i:  50  epoch_i  2\n",
      "validloss:- 1.5303653\n",
      "trainingloss:- 1.4681876  batch_i:  0  epoch_i  3\n",
      "validloss:- 1.444872\n",
      "trainingloss:- 1.5244219  batch_i:  50  epoch_i  3\n",
      "validloss:- 1.31487\n",
      "trainingloss:- 1.3381524  batch_i:  0  epoch_i  4\n",
      "validloss:- 1.311339\n",
      "trainingloss:- 1.3505645  batch_i:  50  epoch_i  4\n",
      "validloss:- 1.2547642\n",
      "trainingloss:- 1.1726439  batch_i:  0  epoch_i  5\n",
      "validloss:- 1.2338535\n",
      "trainingloss:- 1.177385  batch_i:  50  epoch_i  5\n",
      "validloss:- 1.0584298\n",
      "trainingloss:- 1.0233666  batch_i:  0  epoch_i  6\n",
      "validloss:- 1.0373936\n",
      "trainingloss:- 1.030014  batch_i:  50  epoch_i  6\n",
      "validloss:- 0.9934486\n",
      "trainingloss:- 0.87360895  batch_i:  0  epoch_i  7\n",
      "validloss:- 0.95297134\n",
      "trainingloss:- 0.8987556  batch_i:  50  epoch_i  7\n",
      "validloss:- 0.7512869\n",
      "trainingloss:- 0.7568047  batch_i:  0  epoch_i  8\n",
      "validloss:- 0.7396302\n",
      "trainingloss:- 0.7831208  batch_i:  50  epoch_i  8\n",
      "validloss:- 0.7464402\n",
      "trainingloss:- 0.6692294  batch_i:  0  epoch_i  9\n",
      "validloss:- 0.64937556\n",
      "trainingloss:- 0.6973362  batch_i:  50  epoch_i  9\n",
      "validloss:- 0.6339012\n",
      "trainingloss:- 0.58995116  batch_i:  0  epoch_i  10\n",
      "validloss:- 0.5771304\n",
      "trainingloss:- 0.6203393  batch_i:  50  epoch_i  10\n",
      "validloss:- 0.56107515\n",
      "trainingloss:- 0.5212789  batch_i:  0  epoch_i  11\n",
      "validloss:- 0.576282\n",
      "trainingloss:- 0.54966855  batch_i:  50  epoch_i  11\n",
      "validloss:- 0.50587356\n",
      "trainingloss:- 0.4689074  batch_i:  0  epoch_i  12\n",
      "validloss:- 0.45404667\n",
      "trainingloss:- 0.49315047  batch_i:  50  epoch_i  12\n",
      "validloss:- 0.44741905\n",
      "trainingloss:- 0.42342997  batch_i:  0  epoch_i  13\n",
      "validloss:- 0.39077348\n",
      "trainingloss:- 0.44740725  batch_i:  50  epoch_i  13\n",
      "validloss:- 0.44371247\n",
      "trainingloss:- 0.3841596  batch_i:  0  epoch_i  14\n",
      "validloss:- 0.41053876\n",
      "trainingloss:- 0.40455642  batch_i:  50  epoch_i  14\n",
      "validloss:- 0.35702047\n",
      "trainingloss:- 0.36399555  batch_i:  0  epoch_i  15\n",
      "validloss:- 0.34489372\n",
      "trainingloss:- 0.39593932  batch_i:  50  epoch_i  15\n",
      "validloss:- 0.35456377\n",
      "trainingloss:- 0.33147883  batch_i:  0  epoch_i  16\n",
      "validloss:- 0.33415475\n",
      "trainingloss:- 0.34619203  batch_i:  50  epoch_i  16\n",
      "validloss:- 0.34957618\n",
      "trainingloss:- 0.3008193  batch_i:  0  epoch_i  17\n",
      "validloss:- 0.30495727\n",
      "trainingloss:- 0.3174842  batch_i:  50  epoch_i  17\n",
      "validloss:- 0.3261894\n",
      "trainingloss:- 0.2756021  batch_i:  0  epoch_i  18\n",
      "validloss:- 0.27264315\n",
      "trainingloss:- 0.28818578  batch_i:  50  epoch_i  18\n",
      "validloss:- 0.23632115\n",
      "trainingloss:- 0.24936174  batch_i:  0  epoch_i  19\n",
      "validloss:- 0.25665733\n",
      "trainingloss:- 0.26020658  batch_i:  50  epoch_i  19\n",
      "validloss:- 0.28346297\n",
      "trainingloss:- 0.22444323  batch_i:  0  epoch_i  20\n",
      "validloss:- 0.2214313\n",
      "trainingloss:- 0.2362101  batch_i:  50  epoch_i  20\n",
      "validloss:- 0.23150101\n",
      "trainingloss:- 0.20151344  batch_i:  0  epoch_i  21\n",
      "validloss:- 0.19775645\n",
      "trainingloss:- 0.21623893  batch_i:  50  epoch_i  21\n",
      "validloss:- 0.19682185\n",
      "trainingloss:- 0.1820688  batch_i:  0  epoch_i  22\n",
      "validloss:- 0.1614015\n",
      "trainingloss:- 0.1957638  batch_i:  50  epoch_i  22\n",
      "validloss:- 0.19303253\n",
      "trainingloss:- 0.16450621  batch_i:  0  epoch_i  23\n",
      "validloss:- 0.1714265\n",
      "trainingloss:- 0.1759027  batch_i:  50  epoch_i  23\n",
      "validloss:- 0.16295853\n",
      "trainingloss:- 0.14793509  batch_i:  0  epoch_i  24\n",
      "validloss:- 0.17125684\n",
      "trainingloss:- 0.15833278  batch_i:  50  epoch_i  24\n",
      "validloss:- 0.16110906\n",
      "trainingloss:- 0.13198009  batch_i:  0  epoch_i  25\n",
      "validloss:- 0.13017032\n",
      "trainingloss:- 0.14336908  batch_i:  50  epoch_i  25\n",
      "validloss:- 0.15693909\n",
      "trainingloss:- 0.11729516  batch_i:  0  epoch_i  26\n",
      "validloss:- 0.1345773\n",
      "trainingloss:- 0.13082553  batch_i:  50  epoch_i  26\n",
      "validloss:- 0.1117737\n",
      "trainingloss:- 0.10524993  batch_i:  0  epoch_i  27\n",
      "validloss:- 0.12144239\n",
      "trainingloss:- 0.12014797  batch_i:  50  epoch_i  27\n",
      "validloss:- 0.10238081\n",
      "trainingloss:- 0.095459945  batch_i:  0  epoch_i  28\n",
      "validloss:- 0.0781034\n",
      "trainingloss:- 0.11015984  batch_i:  50  epoch_i  28\n",
      "validloss:- 0.098236874\n",
      "trainingloss:- 0.0867072  batch_i:  0  epoch_i  29\n",
      "validloss:- 0.10607361\n",
      "trainingloss:- 0.09957658  batch_i:  50  epoch_i  29\n",
      "validloss:- 0.07461665\n",
      "trainingloss:- 0.077968374  batch_i:  0  epoch_i  30\n",
      "validloss:- 0.08557098\n",
      "trainingloss:- 0.08937634  batch_i:  50  epoch_i  30\n",
      "validloss:- 0.06776166\n",
      "trainingloss:- 0.070617065  batch_i:  0  epoch_i  31\n",
      "validloss:- 0.108425304\n",
      "trainingloss:- 0.08225602  batch_i:  50  epoch_i  31\n",
      "validloss:- 0.086688995\n",
      "trainingloss:- 0.066285215  batch_i:  0  epoch_i  32\n",
      "validloss:- 0.06666061\n",
      "trainingloss:- 0.0769397  batch_i:  50  epoch_i  32\n",
      "validloss:- 0.084312275\n",
      "trainingloss:- 0.06257358  batch_i:  0  epoch_i  33\n",
      "validloss:- 0.07385162\n",
      "trainingloss:- 0.06616525  batch_i:  50  epoch_i  33\n",
      "validloss:- 0.06847969\n",
      "trainingloss:- 0.056700703  batch_i:  0  epoch_i  34\n",
      "validloss:- 0.07158591\n",
      "trainingloss:- 0.065658055  batch_i:  50  epoch_i  34\n",
      "validloss:- 0.07505725\n",
      "trainingloss:- 0.05120728  batch_i:  0  epoch_i  35\n",
      "validloss:- 0.071217544\n",
      "trainingloss:- 0.060825452  batch_i:  50  epoch_i  35\n",
      "validloss:- 0.06915658\n",
      "trainingloss:- 0.048411734  batch_i:  0  epoch_i  36\n",
      "validloss:- 0.052374087\n",
      "trainingloss:- 0.05908668  batch_i:  50  epoch_i  36\n",
      "validloss:- 0.06931993\n",
      "trainingloss:- 0.04411897  batch_i:  0  epoch_i  37\n",
      "validloss:- 0.055080414\n",
      "trainingloss:- 0.0594514  batch_i:  50  epoch_i  37\n",
      "validloss:- 0.056322437\n",
      "trainingloss:- 0.040310714  batch_i:  0  epoch_i  38\n",
      "validloss:- 0.052005295\n",
      "trainingloss:- 0.050567497  batch_i:  50  epoch_i  38\n",
      "validloss:- 0.050595943\n",
      "trainingloss:- 0.03939791  batch_i:  0  epoch_i  39\n",
      "validloss:- 0.050165474\n",
      "trainingloss:- 0.04151652  batch_i:  50  epoch_i  39\n",
      "validloss:- 0.044670768\n",
      "trainingloss:- 0.04221664  batch_i:  0  epoch_i  40\n",
      "validloss:- 0.049398154\n",
      "trainingloss:- 0.037600353  batch_i:  50  epoch_i  40\n",
      "validloss:- 0.040439032\n",
      "trainingloss:- 0.03266097  batch_i:  0  epoch_i  41\n",
      "validloss:- 0.03110568\n",
      "trainingloss:- 0.034900665  batch_i:  50  epoch_i  41\n",
      "validloss:- 0.045301106\n",
      "trainingloss:- 0.029862892  batch_i:  0  epoch_i  42\n",
      "validloss:- 0.028514937\n",
      "trainingloss:- 0.032509707  batch_i:  50  epoch_i  42\n",
      "validloss:- 0.032512892\n",
      "trainingloss:- 0.027688637  batch_i:  0  epoch_i  43\n",
      "validloss:- 0.032672737\n",
      "trainingloss:- 0.03409511  batch_i:  50  epoch_i  43\n",
      "validloss:- 0.031111453\n",
      "trainingloss:- 0.02572461  batch_i:  0  epoch_i  44\n",
      "validloss:- 0.04890572\n",
      "trainingloss:- 0.031009503  batch_i:  50  epoch_i  44\n",
      "validloss:- 0.024842238\n",
      "trainingloss:- 0.023186738  batch_i:  0  epoch_i  45\n",
      "validloss:- 0.0355542\n",
      "trainingloss:- 0.027506897  batch_i:  50  epoch_i  45\n",
      "validloss:- 0.02941069\n",
      "trainingloss:- 0.023199074  batch_i:  0  epoch_i  46\n",
      "validloss:- 0.030361835\n",
      "trainingloss:- 0.024491586  batch_i:  50  epoch_i  46\n",
      "validloss:- 0.027306292\n",
      "trainingloss:- 0.023021381  batch_i:  0  epoch_i  47\n",
      "validloss:- 0.030779311\n",
      "trainingloss:- 0.024295563  batch_i:  50  epoch_i  47\n",
      "validloss:- 0.029080655\n",
      "trainingloss:- 0.020791996  batch_i:  0  epoch_i  48\n",
      "validloss:- 0.043886658\n",
      "trainingloss:- 0.021758437  batch_i:  50  epoch_i  48\n",
      "validloss:- 0.021061521\n",
      "trainingloss:- 0.02015747  batch_i:  0  epoch_i  49\n",
      "validloss:- 0.030331636\n",
      "trainingloss:- 0.019803306  batch_i:  50  epoch_i  49\n",
      "validloss:- 0.023924712\n",
      "trainingloss:- 0.018295644  batch_i:  0  epoch_i  50\n",
      "validloss:- 0.032476917\n",
      "trainingloss:- 0.01977401  batch_i:  50  epoch_i  50\n",
      "validloss:- 0.027968727\n",
      "trainingloss:- 0.016500354  batch_i:  0  epoch_i  51\n",
      "validloss:- 0.04198471\n",
      "trainingloss:- 0.0188465  batch_i:  50  epoch_i  51\n",
      "validloss:- 0.020636816\n",
      "trainingloss:- 0.015356697  batch_i:  0  epoch_i  52\n",
      "validloss:- 0.037935115\n",
      "trainingloss:- 0.017130034  batch_i:  50  epoch_i  52\n",
      "validloss:- 0.024847006\n",
      "trainingloss:- 0.014593018  batch_i:  0  epoch_i  53\n",
      "validloss:- 0.017012313\n",
      "trainingloss:- 0.01777719  batch_i:  50  epoch_i  53\n",
      "validloss:- 0.021152286\n",
      "trainingloss:- 0.013800869  batch_i:  0  epoch_i  54\n",
      "validloss:- 0.016902333\n",
      "trainingloss:- 0.02606295  batch_i:  50  epoch_i  54\n",
      "validloss:- 0.0415237\n",
      "trainingloss:- 0.020082884  batch_i:  0  epoch_i  55\n",
      "validloss:- 0.026847593\n",
      "trainingloss:- 0.019485764  batch_i:  50  epoch_i  55\n",
      "validloss:- 0.017466774\n",
      "trainingloss:- 0.014285179  batch_i:  0  epoch_i  56\n",
      "validloss:- 0.02618001\n",
      "trainingloss:- 0.013060617  batch_i:  50  epoch_i  56\n",
      "validloss:- 0.020143796\n",
      "trainingloss:- 0.012620129  batch_i:  0  epoch_i  57\n",
      "validloss:- 0.01198855\n",
      "trainingloss:- 0.012848051  batch_i:  50  epoch_i  57\n",
      "validloss:- 0.021889236\n",
      "trainingloss:- 0.011976879  batch_i:  0  epoch_i  58\n",
      "validloss:- 0.015709061\n",
      "trainingloss:- 0.01129485  batch_i:  50  epoch_i  58\n",
      "validloss:- 0.017547889\n",
      "trainingloss:- 0.012551034  batch_i:  0  epoch_i  59\n",
      "validloss:- 0.015891455\n",
      "trainingloss:- 0.011218911  batch_i:  50  epoch_i  59\n",
      "validloss:- 0.0133353835\n",
      "trainingloss:- 0.009150063  batch_i:  0  epoch_i  60\n",
      "validloss:- 0.020809948\n",
      "trainingloss:- 0.0107774455  batch_i:  50  epoch_i  60\n",
      "validloss:- 0.012297771\n",
      "trainingloss:- 0.008342341  batch_i:  0  epoch_i  61\n",
      "validloss:- 0.019366514\n",
      "trainingloss:- 0.0113884  batch_i:  50  epoch_i  61\n",
      "validloss:- 0.015179054\n",
      "trainingloss:- 0.007825122  batch_i:  0  epoch_i  62\n",
      "validloss:- 0.011734\n",
      "trainingloss:- 0.010626394  batch_i:  50  epoch_i  62\n",
      "validloss:- 0.011396366\n",
      "trainingloss:- 0.008533705  batch_i:  0  epoch_i  63\n",
      "validloss:- 0.018262472\n",
      "trainingloss:- 0.008080421  batch_i:  50  epoch_i  63\n",
      "validloss:- 0.011624165\n",
      "trainingloss:- 0.0074474295  batch_i:  0  epoch_i  64\n",
      "validloss:- 0.013522957\n",
      "trainingloss:- 0.008007917  batch_i:  50  epoch_i  64\n",
      "validloss:- 0.014446322\n",
      "trainingloss:- 0.007223987  batch_i:  0  epoch_i  65\n",
      "validloss:- 0.012269404\n",
      "trainingloss:- 0.0069303857  batch_i:  50  epoch_i  65\n",
      "validloss:- 0.013655724\n",
      "trainingloss:- 0.006265874  batch_i:  0  epoch_i  66\n",
      "validloss:- 0.012899864\n",
      "trainingloss:- 0.006720849  batch_i:  50  epoch_i  66\n",
      "validloss:- 0.016148934\n",
      "trainingloss:- 0.005981659  batch_i:  0  epoch_i  67\n",
      "validloss:- 0.012861665\n",
      "trainingloss:- 0.0061787544  batch_i:  50  epoch_i  67\n",
      "validloss:- 0.013903749\n",
      "trainingloss:- 0.005410724  batch_i:  0  epoch_i  68\n",
      "validloss:- 0.014445926\n",
      "trainingloss:- 0.005951194  batch_i:  50  epoch_i  68\n",
      "validloss:- 0.011590365\n",
      "trainingloss:- 0.005165579  batch_i:  0  epoch_i  69\n",
      "validloss:- 0.012441701\n",
      "trainingloss:- 0.0058058416  batch_i:  50  epoch_i  69\n",
      "validloss:- 0.010082866\n",
      "trainingloss:- 0.0050071077  batch_i:  0  epoch_i  70\n",
      "validloss:- 0.00886268\n",
      "trainingloss:- 0.0055953935  batch_i:  50  epoch_i  70\n",
      "validloss:- 0.007839423\n",
      "trainingloss:- 0.004628323  batch_i:  0  epoch_i  71\n",
      "validloss:- 0.012111827\n",
      "trainingloss:- 0.005335973  batch_i:  50  epoch_i  71\n",
      "validloss:- 0.0057457727\n",
      "trainingloss:- 0.0043756487  batch_i:  0  epoch_i  72\n",
      "validloss:- 0.009348842\n",
      "trainingloss:- 0.0048971428  batch_i:  50  epoch_i  72\n",
      "validloss:- 0.012298076\n",
      "trainingloss:- 0.004123663  batch_i:  0  epoch_i  73\n",
      "validloss:- 0.007809992\n",
      "trainingloss:- 0.0046688775  batch_i:  50  epoch_i  73\n",
      "validloss:- 0.0052969824\n",
      "trainingloss:- 0.003948766  batch_i:  0  epoch_i  74\n",
      "validloss:- 0.01129736\n",
      "trainingloss:- 0.004492671  batch_i:  50  epoch_i  74\n",
      "validloss:- 0.0106155835\n",
      "trainingloss:- 0.0037453487  batch_i:  0  epoch_i  75\n",
      "validloss:- 0.003749222\n",
      "trainingloss:- 0.0042838487  batch_i:  50  epoch_i  75\n",
      "validloss:- 0.0069178017\n",
      "trainingloss:- 0.0035547633  batch_i:  0  epoch_i  76\n",
      "validloss:- 0.00784184\n",
      "trainingloss:- 0.0040603788  batch_i:  50  epoch_i  76\n",
      "validloss:- 0.0060360935\n",
      "trainingloss:- 0.003372845  batch_i:  0  epoch_i  77\n",
      "validloss:- 0.007831125\n",
      "trainingloss:- 0.0038792314  batch_i:  50  epoch_i  77\n",
      "validloss:- 0.009110587\n",
      "trainingloss:- 0.0031920457  batch_i:  0  epoch_i  78\n",
      "validloss:- 0.0065752496\n",
      "trainingloss:- 0.0037110082  batch_i:  50  epoch_i  78\n",
      "validloss:- 0.0065802108\n",
      "trainingloss:- 0.0030354839  batch_i:  0  epoch_i  79\n",
      "validloss:- 0.008076977\n",
      "trainingloss:- 0.0035340742  batch_i:  50  epoch_i  79\n",
      "validloss:- 0.0051301382\n",
      "trainingloss:- 0.002897938  batch_i:  0  epoch_i  80\n",
      "validloss:- 0.0064657396\n",
      "trainingloss:- 0.003359776  batch_i:  50  epoch_i  80\n",
      "validloss:- 0.011017115\n",
      "trainingloss:- 0.0027770195  batch_i:  0  epoch_i  81\n",
      "validloss:- 0.0046166126\n",
      "trainingloss:- 0.00319678  batch_i:  50  epoch_i  81\n",
      "validloss:- 0.006115464\n",
      "trainingloss:- 0.0026645549  batch_i:  0  epoch_i  82\n",
      "validloss:- 0.009615542\n",
      "trainingloss:- 0.0030459322  batch_i:  50  epoch_i  82\n",
      "validloss:- 0.005922402\n",
      "trainingloss:- 0.0025570663  batch_i:  0  epoch_i  83\n",
      "validloss:- 0.008539062\n",
      "trainingloss:- 0.0029052207  batch_i:  50  epoch_i  83\n",
      "validloss:- 0.005517732\n",
      "trainingloss:- 0.0024526746  batch_i:  0  epoch_i  84\n",
      "validloss:- 0.006188533\n",
      "trainingloss:- 0.0027732498  batch_i:  50  epoch_i  84\n",
      "validloss:- 0.0045463643\n",
      "trainingloss:- 0.0023503592  batch_i:  0  epoch_i  85\n",
      "validloss:- 0.0074309777\n",
      "trainingloss:- 0.002649258  batch_i:  50  epoch_i  85\n",
      "validloss:- 0.010761953\n",
      "trainingloss:- 0.0022500402  batch_i:  0  epoch_i  86\n",
      "validloss:- 0.00469331\n",
      "trainingloss:- 0.0025334638  batch_i:  50  epoch_i  86\n",
      "validloss:- 0.0039979285\n",
      "trainingloss:- 0.0021520564  batch_i:  0  epoch_i  87\n",
      "validloss:- 0.006634825\n",
      "trainingloss:- 0.0024259733  batch_i:  50  epoch_i  87\n",
      "validloss:- 0.0071225334\n",
      "trainingloss:- 0.0020553963  batch_i:  0  epoch_i  88\n",
      "validloss:- 0.0044600368\n",
      "trainingloss:- 0.0023262755  batch_i:  50  epoch_i  88\n",
      "validloss:- 0.006104908\n",
      "trainingloss:- 0.0019598496  batch_i:  0  epoch_i  89\n",
      "validloss:- 0.0056579094\n",
      "trainingloss:- 0.0022338333  batch_i:  50  epoch_i  89\n",
      "validloss:- 0.0044757137\n",
      "trainingloss:- 0.0018704736  batch_i:  0  epoch_i  90\n",
      "validloss:- 0.0081515005\n",
      "trainingloss:- 0.0021480175  batch_i:  50  epoch_i  90\n",
      "validloss:- 0.005104116\n",
      "trainingloss:- 0.0018015499  batch_i:  0  epoch_i  91\n",
      "validloss:- 0.0033688038\n",
      "trainingloss:- 0.0020773483  batch_i:  50  epoch_i  91\n",
      "validloss:- 0.006039443\n",
      "trainingloss:- 0.0017695145  batch_i:  0  epoch_i  92\n",
      "validloss:- 0.00457761\n",
      "trainingloss:- 0.0020566685  batch_i:  50  epoch_i  92\n",
      "validloss:- 0.004624276\n",
      "trainingloss:- 0.0017002671  batch_i:  0  epoch_i  93\n",
      "validloss:- 0.0048053158\n",
      "trainingloss:- 0.0019940818  batch_i:  50  epoch_i  93\n",
      "validloss:- 0.0037052126\n",
      "trainingloss:- 0.0016251921  batch_i:  0  epoch_i  94\n",
      "validloss:- 0.0067844074\n",
      "trainingloss:- 0.066701725  batch_i:  50  epoch_i  94\n",
      "validloss:- 0.07762717\n",
      "trainingloss:- 0.02096627  batch_i:  0  epoch_i  95\n",
      "validloss:- 0.030029416\n",
      "trainingloss:- 0.014697407  batch_i:  50  epoch_i  95\n",
      "validloss:- 0.016209846\n",
      "trainingloss:- 0.009576689  batch_i:  0  epoch_i  96\n",
      "validloss:- 0.01739877\n",
      "trainingloss:- 0.0086862175  batch_i:  50  epoch_i  96\n",
      "validloss:- 0.011788267\n",
      "trainingloss:- 0.0049393787  batch_i:  0  epoch_i  97\n",
      "validloss:- 0.013021031\n",
      "trainingloss:- 0.0067252386  batch_i:  50  epoch_i  97\n",
      "validloss:- 0.007661168\n",
      "trainingloss:- 0.0039380905  batch_i:  0  epoch_i  98\n",
      "validloss:- 0.008711365\n",
      "trainingloss:- 0.0057537295  batch_i:  50  epoch_i  98\n",
      "validloss:- 0.007865809\n",
      "trainingloss:- 0.0034246936  batch_i:  0  epoch_i  99\n",
      "validloss:- 0.0050915102\n",
      "trainingloss:- 0.0044644405  batch_i:  50  epoch_i  99\n",
      "validloss:- 0.0062012943\n",
      "trainingloss:- 0.0031050541  batch_i:  0  epoch_i  100\n",
      "validloss:- 0.010146163\n",
      "trainingloss:- 0.00384408  batch_i:  50  epoch_i  100\n",
      "validloss:- 0.004842873\n"
     ]
    }
   ],
   "source": [
    "with tf.Session() as sess:\n",
    "    sess.run(tf.global_variables_initializer())\n",
    "        \n",
    "    for epoch_i in range(1, epochs+1):\n",
    "        valid_pad_sid=np.array(pad_sequence_batch(validsource,vocab_2_int['<PAD>']),dtype=np.int32)\n",
    "        valid_pad_tid=np.array(pad_sequence_batch(validtarget,vocab_2_int['<PAD>']),dtype=np.int32)\n",
    "        valid_tar_length=np.array([len(i) for i in valid_pad_tid],dtype=np.int32)\n",
    "        valid_sour_length=np.array([len(i) for i in valid_pad_sid],dtype=np.int32)\n",
    "        \n",
    "        for batch_i, (targets_batch, sources_batch, targets_lengths, sources_lengths) in enumerate(\n",
    "                get_batches(traintarget, trainsource, batchsize,\n",
    "                           vocab_2_int['<PAD>'],\n",
    "                           vocab_2_int['<PAD>'])):\n",
    "            \n",
    "            sources_batch=sources_batch.astype(np.int32)\n",
    "            targets_batch=targets_batch.astype(np.int32)\n",
    "            \n",
    "            #print(sources_batch.shape)\n",
    "            #print(targets_batch.shape)\n",
    "            # Training step\n",
    "            sources_lengths=np.array(sources_lengths,dtype=np.int32)\n",
    "            targets_lengths=np.array(targets_lengths,dtype=np.int32)\n",
    "            \n",
    "            #print(sources_lengths.shape)\n",
    "            #print(sources_lengths[:5])\n",
    "            _, loss = sess.run(\n",
    "                [train_op, cost],feed_dict=\n",
    "                {inp: sources_batch,\n",
    "                 target: targets_batch,\n",
    "                 lr: learning_rate,\n",
    "                 tar_seq_length: targets_lengths,\n",
    "                 source_seq_length: sources_lengths})\n",
    "            \n",
    "            if (batch_i%50)==0:\n",
    "                print(\"trainingloss:-\",loss ,\" batch_i: \",batch_i,\" epoch_i \",epoch_i)\n",
    "                #print(validsource[:5])\n",
    "                #print(validtarget[:5])\n",
    "                \n",
    "                index=np.random.choice(1000,size=128,replace=False)\n",
    "                valid_pad_batchsid=valid_pad_sid[index]\n",
    "                valid_pad_batchtid=valid_pad_tid[index]\n",
    "                #print(valid_pad_sid[:5])\n",
    "                #print(valid_pad_tid[:5])\n",
    "                #print(valid_pad_sid.shape)\n",
    "                #print(valid_pad_tid.shape)\n",
    "                \n",
    "                \n",
    "                \n",
    "                valid_tar_length1=np.array([len(i) for i in valid_pad_batchtid],dtype=np.int32)\n",
    "                valid_sour_length1=np.array([len(i) for i in valid_pad_batchsid],dtype=np.int32)\n",
    "                #print(np.max(valid_tar_length))\n",
    "                #print(np.max(valid_sour_length))\n",
    "                validloss,validpred=sess.run([cost,inference_logits],feed_dict={inp:valid_pad_batchsid,target:valid_pad_batchtid,tar_seq_length:valid_tar_length1,source_seq_length:valid_sour_length1})\n",
    "\n",
    "                print(\"validloss:-\",validloss)\n",
    "                \n",
    "                \n",
    "                #There is some problem cant use whole validation set as inputs in model. need to figure out why\n",
    "                # make sure validation set is integer multiple of batchsize for it to work\n",
    "   \n",
    "        \n",
    "\n",
    "                \n",
    "            "
   ]
  },
  {
   "cell_type": "code",
   "execution_count": 55,
   "metadata": {},
   "outputs": [
    {
     "data": {
      "text/plain": [
       "'a d d u <PAD> <PAD> <PAD>'"
      ]
     },
     "execution_count": 55,
     "metadata": {},
     "output_type": "execute_result"
    }
   ],
   "source": [
    "\" \".join([int_2_vocab[i] for i in valid_pad_batchsid[0]])"
   ]
  },
  {
   "cell_type": "code",
   "execution_count": 56,
   "metadata": {},
   "outputs": [],
   "source": [
    "validpred1=np.argmax(validpred,axis=-1)"
   ]
  },
  {
   "cell_type": "code",
   "execution_count": 57,
   "metadata": {},
   "outputs": [
    {
     "data": {
      "text/plain": [
       "'a d d u <EOS> <PAD> <PAD> <PAD>'"
      ]
     },
     "execution_count": 57,
     "metadata": {},
     "output_type": "execute_result"
    }
   ],
   "source": [
    "\" \".join([int_2_vocab[i] for i in validpred1[0]])"
   ]
  },
  {
   "cell_type": "code",
   "execution_count": 58,
   "metadata": {},
   "outputs": [
    {
     "name": "stdout",
     "output_type": "stream",
     "text": [
      "a d d u <PAD> <PAD> <PAD>\n",
      "y <PAD> <PAD> <PAD> <PAD> <PAD> <PAD>\n",
      "h x r p k j <PAD>\n",
      "l <PAD> <PAD> <PAD> <PAD> <PAD> <PAD>\n",
      "r j s e t <PAD> <PAD>\n"
     ]
    }
   ],
   "source": [
    "for i in range(5):\n",
    "    print(\" \".join([int_2_vocab[i] for i in valid_pad_batchsid[i]]))"
   ]
  },
  {
   "cell_type": "code",
   "execution_count": 59,
   "metadata": {},
   "outputs": [
    {
     "name": "stdout",
     "output_type": "stream",
     "text": [
      "a d d u <EOS> <PAD> <PAD> <PAD>\n",
      "y <EOS> <PAD> <PAD> <PAD> <PAD> <PAD> <PAD>\n",
      "h j k p r x <EOS> <PAD>\n",
      "l <EOS> <PAD> <PAD> <PAD> <PAD> <PAD> <PAD>\n",
      "e j r s t <EOS> <PAD> <PAD>\n"
     ]
    }
   ],
   "source": [
    "for i in range(5):\n",
    "    print(\" \".join([int_2_vocab[i] for i in validpred1[i]]))"
   ]
  },
  {
   "cell_type": "code",
   "execution_count": 60,
   "metadata": {},
   "outputs": [],
   "source": []
  },
  {
   "cell_type": "code",
   "execution_count": 60,
   "metadata": {},
   "outputs": [],
   "source": []
  },
  {
   "cell_type": "code",
   "execution_count": 60,
   "metadata": {},
   "outputs": [],
   "source": []
  }
 ],
 "metadata": {
  "kernelspec": {
   "display_name": "Python 3",
   "language": "python",
   "name": "python3"
  },
  "language_info": {
   "codemirror_mode": {
    "name": "ipython",
    "version": 3
   },
   "file_extension": ".py",
   "mimetype": "text/x-python",
   "name": "python",
   "nbconvert_exporter": "python",
   "pygments_lexer": "ipython3",
   "version": "3.6.4"
  }
 },
 "nbformat": 4,
 "nbformat_minor": 1
}
